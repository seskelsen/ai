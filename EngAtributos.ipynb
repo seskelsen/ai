{
 "cells": [
  {
   "cell_type": "code",
   "execution_count": 1,
   "metadata": {},
   "outputs": [],
   "source": [
    "import pandas as pd\n",
    "from sklearn.preprocessing import LabelEncoder, StandardScaler"
   ]
  },
  {
   "cell_type": "code",
   "execution_count": 2,
   "metadata": {},
   "outputs": [
    {
     "data": {
      "text/plain": [
       "(1000, 8)"
      ]
     },
     "execution_count": 2,
     "metadata": {},
     "output_type": "execute_result"
    }
   ],
   "source": [
    "dataset = pd.read_csv('credit_simple.csv', sep=';')\n",
    "dataset.shape"
   ]
  },
  {
   "cell_type": "code",
   "execution_count": 3,
   "metadata": {},
   "outputs": [
    {
     "data": {
      "text/html": [
       "<div>\n",
       "<style scoped>\n",
       "    .dataframe tbody tr th:only-of-type {\n",
       "        vertical-align: middle;\n",
       "    }\n",
       "\n",
       "    .dataframe tbody tr th {\n",
       "        vertical-align: top;\n",
       "    }\n",
       "\n",
       "    .dataframe thead th {\n",
       "        text-align: right;\n",
       "    }\n",
       "</style>\n",
       "<table border=\"1\" class=\"dataframe\">\n",
       "  <thead>\n",
       "    <tr style=\"text-align: right;\">\n",
       "      <th></th>\n",
       "      <th>SALDO_ATUAL</th>\n",
       "      <th>RESIDENCIADESDE</th>\n",
       "      <th>IDADE</th>\n",
       "      <th>OUTROSPLANOSPGTO</th>\n",
       "      <th>DATA</th>\n",
       "      <th>ESTADOCIVIL</th>\n",
       "      <th>PROPOSITO</th>\n",
       "      <th>CLASSE</th>\n",
       "    </tr>\n",
       "  </thead>\n",
       "  <tbody>\n",
       "    <tr>\n",
       "      <th>0</th>\n",
       "      <td>1169.0</td>\n",
       "      <td>4</td>\n",
       "      <td>67</td>\n",
       "      <td>nenhum</td>\n",
       "      <td>01/01/2019</td>\n",
       "      <td>masculino solteiro</td>\n",
       "      <td>radio/tv</td>\n",
       "      <td>bom</td>\n",
       "    </tr>\n",
       "    <tr>\n",
       "      <th>1</th>\n",
       "      <td>5951.0</td>\n",
       "      <td>2</td>\n",
       "      <td>22</td>\n",
       "      <td>nenhum</td>\n",
       "      <td>01/01/2020</td>\n",
       "      <td>fem div/cas</td>\n",
       "      <td>radio/tv</td>\n",
       "      <td>ruim</td>\n",
       "    </tr>\n",
       "    <tr>\n",
       "      <th>2</th>\n",
       "      <td>2096.0</td>\n",
       "      <td>3</td>\n",
       "      <td>49</td>\n",
       "      <td>nenhum</td>\n",
       "      <td>02/01/2020</td>\n",
       "      <td>masculino solteiro</td>\n",
       "      <td>educação</td>\n",
       "      <td>bom</td>\n",
       "    </tr>\n",
       "    <tr>\n",
       "      <th>3</th>\n",
       "      <td>7882.0</td>\n",
       "      <td>4</td>\n",
       "      <td>45</td>\n",
       "      <td>nenhum</td>\n",
       "      <td>02/01/2019</td>\n",
       "      <td>masculino solteiro</td>\n",
       "      <td>mobilia/equipamento</td>\n",
       "      <td>bom</td>\n",
       "    </tr>\n",
       "    <tr>\n",
       "      <th>4</th>\n",
       "      <td>4870.0</td>\n",
       "      <td>4</td>\n",
       "      <td>53</td>\n",
       "      <td>nenhum</td>\n",
       "      <td>03/01/2018</td>\n",
       "      <td>masculino solteiro</td>\n",
       "      <td>carro novo</td>\n",
       "      <td>ruim</td>\n",
       "    </tr>\n",
       "  </tbody>\n",
       "</table>\n",
       "</div>"
      ],
      "text/plain": [
       "   SALDO_ATUAL  RESIDENCIADESDE  IDADE OUTROSPLANOSPGTO        DATA  \\\n",
       "0       1169.0                4     67           nenhum  01/01/2019   \n",
       "1       5951.0                2     22           nenhum  01/01/2020   \n",
       "2       2096.0                3     49           nenhum  02/01/2020   \n",
       "3       7882.0                4     45           nenhum  02/01/2019   \n",
       "4       4870.0                4     53           nenhum  03/01/2018   \n",
       "\n",
       "          ESTADOCIVIL            PROPOSITO CLASSE  \n",
       "0  masculino solteiro             radio/tv    bom  \n",
       "1         fem div/cas             radio/tv   ruim  \n",
       "2  masculino solteiro             educação    bom  \n",
       "3  masculino solteiro  mobilia/equipamento    bom  \n",
       "4  masculino solteiro           carro novo   ruim  "
      ]
     },
     "execution_count": 3,
     "metadata": {},
     "output_type": "execute_result"
    }
   ],
   "source": [
    "dataset.head()"
   ]
  },
  {
   "cell_type": "code",
   "execution_count": 4,
   "metadata": {},
   "outputs": [
    {
     "data": {
      "text/html": [
       "<div>\n",
       "<style scoped>\n",
       "    .dataframe tbody tr th:only-of-type {\n",
       "        vertical-align: middle;\n",
       "    }\n",
       "\n",
       "    .dataframe tbody tr th {\n",
       "        vertical-align: top;\n",
       "    }\n",
       "\n",
       "    .dataframe thead th {\n",
       "        text-align: right;\n",
       "    }\n",
       "</style>\n",
       "<table border=\"1\" class=\"dataframe\">\n",
       "  <thead>\n",
       "    <tr style=\"text-align: right;\">\n",
       "      <th></th>\n",
       "      <th>SALDO_ATUAL</th>\n",
       "      <th>RESIDENCIADESDE</th>\n",
       "      <th>IDADE</th>\n",
       "      <th>OUTROSPLANOSPGTO</th>\n",
       "      <th>DATA</th>\n",
       "      <th>ESTADOCIVIL</th>\n",
       "      <th>PROPOSITO</th>\n",
       "    </tr>\n",
       "  </thead>\n",
       "  <tbody>\n",
       "    <tr>\n",
       "      <th>0</th>\n",
       "      <td>1169.0</td>\n",
       "      <td>4</td>\n",
       "      <td>67</td>\n",
       "      <td>nenhum</td>\n",
       "      <td>01/01/2019</td>\n",
       "      <td>masculino solteiro</td>\n",
       "      <td>radio/tv</td>\n",
       "    </tr>\n",
       "    <tr>\n",
       "      <th>1</th>\n",
       "      <td>5951.0</td>\n",
       "      <td>2</td>\n",
       "      <td>22</td>\n",
       "      <td>nenhum</td>\n",
       "      <td>01/01/2020</td>\n",
       "      <td>fem div/cas</td>\n",
       "      <td>radio/tv</td>\n",
       "    </tr>\n",
       "    <tr>\n",
       "      <th>2</th>\n",
       "      <td>2096.0</td>\n",
       "      <td>3</td>\n",
       "      <td>49</td>\n",
       "      <td>nenhum</td>\n",
       "      <td>02/01/2020</td>\n",
       "      <td>masculino solteiro</td>\n",
       "      <td>educação</td>\n",
       "    </tr>\n",
       "    <tr>\n",
       "      <th>3</th>\n",
       "      <td>7882.0</td>\n",
       "      <td>4</td>\n",
       "      <td>45</td>\n",
       "      <td>nenhum</td>\n",
       "      <td>02/01/2019</td>\n",
       "      <td>masculino solteiro</td>\n",
       "      <td>mobilia/equipamento</td>\n",
       "    </tr>\n",
       "    <tr>\n",
       "      <th>4</th>\n",
       "      <td>4870.0</td>\n",
       "      <td>4</td>\n",
       "      <td>53</td>\n",
       "      <td>nenhum</td>\n",
       "      <td>03/01/2018</td>\n",
       "      <td>masculino solteiro</td>\n",
       "      <td>carro novo</td>\n",
       "    </tr>\n",
       "    <tr>\n",
       "      <th>...</th>\n",
       "      <td>...</td>\n",
       "      <td>...</td>\n",
       "      <td>...</td>\n",
       "      <td>...</td>\n",
       "      <td>...</td>\n",
       "      <td>...</td>\n",
       "      <td>...</td>\n",
       "    </tr>\n",
       "    <tr>\n",
       "      <th>995</th>\n",
       "      <td>1736.0</td>\n",
       "      <td>4</td>\n",
       "      <td>31</td>\n",
       "      <td>nenhum</td>\n",
       "      <td>29/06/2018</td>\n",
       "      <td>fem div/cas</td>\n",
       "      <td>mobilia/equipamento</td>\n",
       "    </tr>\n",
       "    <tr>\n",
       "      <th>996</th>\n",
       "      <td>3857.0</td>\n",
       "      <td>4</td>\n",
       "      <td>40</td>\n",
       "      <td>nenhum</td>\n",
       "      <td>30/06/2018</td>\n",
       "      <td>masculino div/sep</td>\n",
       "      <td>carro usado</td>\n",
       "    </tr>\n",
       "    <tr>\n",
       "      <th>997</th>\n",
       "      <td>804.0</td>\n",
       "      <td>4</td>\n",
       "      <td>38</td>\n",
       "      <td>nenhum</td>\n",
       "      <td>03/07/2018</td>\n",
       "      <td>masculino solteiro</td>\n",
       "      <td>radio/tv</td>\n",
       "    </tr>\n",
       "    <tr>\n",
       "      <th>998</th>\n",
       "      <td>1845.0</td>\n",
       "      <td>4</td>\n",
       "      <td>23</td>\n",
       "      <td>nenhum</td>\n",
       "      <td>04/07/2019</td>\n",
       "      <td>masculino solteiro</td>\n",
       "      <td>radio/tv</td>\n",
       "    </tr>\n",
       "    <tr>\n",
       "      <th>999</th>\n",
       "      <td>4576.0</td>\n",
       "      <td>4</td>\n",
       "      <td>27</td>\n",
       "      <td>nenhum</td>\n",
       "      <td>05/07/2018</td>\n",
       "      <td>masculino solteiro</td>\n",
       "      <td>carro usado</td>\n",
       "    </tr>\n",
       "  </tbody>\n",
       "</table>\n",
       "<p>1000 rows × 7 columns</p>\n",
       "</div>"
      ],
      "text/plain": [
       "     SALDO_ATUAL  RESIDENCIADESDE  IDADE OUTROSPLANOSPGTO        DATA  \\\n",
       "0         1169.0                4     67           nenhum  01/01/2019   \n",
       "1         5951.0                2     22           nenhum  01/01/2020   \n",
       "2         2096.0                3     49           nenhum  02/01/2020   \n",
       "3         7882.0                4     45           nenhum  02/01/2019   \n",
       "4         4870.0                4     53           nenhum  03/01/2018   \n",
       "..           ...              ...    ...              ...         ...   \n",
       "995       1736.0                4     31           nenhum  29/06/2018   \n",
       "996       3857.0                4     40           nenhum  30/06/2018   \n",
       "997        804.0                4     38           nenhum  03/07/2018   \n",
       "998       1845.0                4     23           nenhum  04/07/2019   \n",
       "999       4576.0                4     27           nenhum  05/07/2018   \n",
       "\n",
       "            ESTADOCIVIL            PROPOSITO  \n",
       "0    masculino solteiro             radio/tv  \n",
       "1           fem div/cas             radio/tv  \n",
       "2    masculino solteiro             educação  \n",
       "3    masculino solteiro  mobilia/equipamento  \n",
       "4    masculino solteiro           carro novo  \n",
       "..                  ...                  ...  \n",
       "995         fem div/cas  mobilia/equipamento  \n",
       "996   masculino div/sep          carro usado  \n",
       "997  masculino solteiro             radio/tv  \n",
       "998  masculino solteiro             radio/tv  \n",
       "999  masculino solteiro          carro usado  \n",
       "\n",
       "[1000 rows x 7 columns]"
      ]
     },
     "execution_count": 4,
     "metadata": {},
     "output_type": "execute_result"
    }
   ],
   "source": [
    "y = dataset['CLASSE']\n",
    "X = dataset.iloc[:, :-1]\n",
    "\n",
    "X"
   ]
  },
  {
   "cell_type": "code",
   "execution_count": 5,
   "metadata": {},
   "outputs": [
    {
     "data": {
      "text/plain": [
       "SALDO_ATUAL         7\n",
       "RESIDENCIADESDE     0\n",
       "IDADE               0\n",
       "OUTROSPLANOSPGTO    0\n",
       "DATA                0\n",
       "ESTADOCIVIL         8\n",
       "PROPOSITO           0\n",
       "dtype: int64"
      ]
     },
     "execution_count": 5,
     "metadata": {},
     "output_type": "execute_result"
    }
   ],
   "source": [
    "X.isnull().sum()"
   ]
  },
  {
   "cell_type": "code",
   "execution_count": 6,
   "metadata": {},
   "outputs": [
    {
     "data": {
      "text/plain": [
       "np.float64(2323.0)"
      ]
     },
     "execution_count": 6,
     "metadata": {},
     "output_type": "execute_result"
    }
   ],
   "source": [
    "mediana = X['SALDO_ATUAL'].median()\n",
    "mediana"
   ]
  },
  {
   "cell_type": "code",
   "execution_count": 7,
   "metadata": {},
   "outputs": [
    {
     "data": {
      "text/plain": [
       "SALDO_ATUAL         0\n",
       "RESIDENCIADESDE     0\n",
       "IDADE               0\n",
       "OUTROSPLANOSPGTO    0\n",
       "DATA                0\n",
       "ESTADOCIVIL         8\n",
       "PROPOSITO           0\n",
       "dtype: int64"
      ]
     },
     "execution_count": 7,
     "metadata": {},
     "output_type": "execute_result"
    }
   ],
   "source": [
    "# pandas < 3\n",
    "# X['SALDO_ATUAL'].fillna(mediana, inplace=True)\n",
    "# pandas >= 3\n",
    "X.fillna({'SALDO_ATUAL': mediana}, inplace=True)\n",
    "X.isnull().sum()"
   ]
  },
  {
   "cell_type": "code",
   "execution_count": 8,
   "metadata": {},
   "outputs": [
    {
     "data": {
      "text/plain": [
       "ESTADOCIVIL\n",
       "fem div/cas               308\n",
       "masculino casado/viuvo     92\n",
       "masculino div/sep          50\n",
       "masculino solteiro        542\n",
       "dtype: int64"
      ]
     },
     "execution_count": 8,
     "metadata": {},
     "output_type": "execute_result"
    }
   ],
   "source": [
    "# dados cataegóricos obtendo a moda\n",
    "agrupado = X.groupby(['ESTADOCIVIL']).size()\n",
    "agrupado "
   ]
  },
  {
   "cell_type": "code",
   "execution_count": 9,
   "metadata": {},
   "outputs": [
    {
     "data": {
      "text/plain": [
       "SALDO_ATUAL         0\n",
       "RESIDENCIADESDE     0\n",
       "IDADE               0\n",
       "OUTROSPLANOSPGTO    0\n",
       "DATA                0\n",
       "ESTADOCIVIL         0\n",
       "PROPOSITO           0\n",
       "dtype: int64"
      ]
     },
     "execution_count": 9,
     "metadata": {},
     "output_type": "execute_result"
    }
   ],
   "source": [
    "X.fillna({'ESTADOCIVIL': 'masculino solteiro'}, inplace=True)\n",
    "X.isnull().sum()"
   ]
  },
  {
   "cell_type": "code",
   "execution_count": 10,
   "metadata": {},
   "outputs": [
    {
     "data": {
      "text/plain": [
       "np.float64(685936688.9820067)"
      ]
     },
     "execution_count": 10,
     "metadata": {},
     "output_type": "execute_result"
    }
   ],
   "source": [
    "# deteccao de outliers\n",
    "# critério simples (valor maior ou igual a 2 desvios padrão)\n",
    "desv = X['SALDO_ATUAL'].std()\n",
    "desv\n"
   ]
  },
  {
   "cell_type": "code",
   "execution_count": 11,
   "metadata": {},
   "outputs": [
    {
     "data": {
      "text/plain": [
       "127    2.541111e+09\n",
       "160    2.154441e+10\n",
       "Name: SALDO_ATUAL, dtype: float64"
      ]
     },
     "execution_count": 11,
     "metadata": {},
     "output_type": "execute_result"
    }
   ],
   "source": [
    "X.loc[X['SALDO_ATUAL'] >= 2 * desv, 'SALDO_ATUAL']"
   ]
  },
  {
   "cell_type": "code",
   "execution_count": 12,
   "metadata": {},
   "outputs": [
    {
     "data": {
      "text/plain": [
       "np.float64(2323.0)"
      ]
     },
     "execution_count": 12,
     "metadata": {},
     "output_type": "execute_result"
    }
   ],
   "source": [
    "mediana = X['SALDO_ATUAL'].median()\n",
    "mediana"
   ]
  },
  {
   "cell_type": "code",
   "execution_count": 13,
   "metadata": {},
   "outputs": [
    {
     "data": {
      "text/html": [
       "<div>\n",
       "<style scoped>\n",
       "    .dataframe tbody tr th:only-of-type {\n",
       "        vertical-align: middle;\n",
       "    }\n",
       "\n",
       "    .dataframe tbody tr th {\n",
       "        vertical-align: top;\n",
       "    }\n",
       "\n",
       "    .dataframe thead th {\n",
       "        text-align: right;\n",
       "    }\n",
       "</style>\n",
       "<table border=\"1\" class=\"dataframe\">\n",
       "  <thead>\n",
       "    <tr style=\"text-align: right;\">\n",
       "      <th></th>\n",
       "      <th>SALDO_ATUAL</th>\n",
       "      <th>RESIDENCIADESDE</th>\n",
       "      <th>IDADE</th>\n",
       "      <th>OUTROSPLANOSPGTO</th>\n",
       "      <th>DATA</th>\n",
       "      <th>ESTADOCIVIL</th>\n",
       "      <th>PROPOSITO</th>\n",
       "    </tr>\n",
       "  </thead>\n",
       "  <tbody>\n",
       "  </tbody>\n",
       "</table>\n",
       "</div>"
      ],
      "text/plain": [
       "Empty DataFrame\n",
       "Columns: [SALDO_ATUAL, RESIDENCIADESDE, IDADE, OUTROSPLANOSPGTO, DATA, ESTADOCIVIL, PROPOSITO]\n",
       "Index: []"
      ]
     },
     "execution_count": 13,
     "metadata": {},
     "output_type": "execute_result"
    }
   ],
   "source": [
    "X.loc[X['SALDO_ATUAL'] >= 2 * desv, 'SALDO_ATUAL'] = mediana\n",
    "X.loc[X['SALDO_ATUAL'] >= 2 * desv]"
   ]
  }
 ],
 "metadata": {
  "kernelspec": {
   "display_name": ".venv",
   "language": "python",
   "name": "python3"
  },
  "language_info": {
   "codemirror_mode": {
    "name": "ipython",
    "version": 3
   },
   "file_extension": ".py",
   "mimetype": "text/x-python",
   "name": "python",
   "nbconvert_exporter": "python",
   "pygments_lexer": "ipython3",
   "version": "3.12.4"
  }
 },
 "nbformat": 4,
 "nbformat_minor": 2
}
